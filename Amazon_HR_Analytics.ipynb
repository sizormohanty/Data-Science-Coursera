{
  "nbformat": 4,
  "nbformat_minor": 0,
  "metadata": {
    "colab": {
      "provenance": [],
      "gpuType": "T4",
      "authorship_tag": "ABX9TyMk2Oqod3/td9IApwlb5DID",
      "include_colab_link": true
    },
    "kernelspec": {
      "name": "python3",
      "display_name": "Python 3"
    },
    "language_info": {
      "name": "python"
    },
    "accelerator": "GPU"
  },
  "cells": [
    {
      "cell_type": "markdown",
      "metadata": {
        "id": "view-in-github",
        "colab_type": "text"
      },
      "source": [
        "<a href=\"https://colab.research.google.com/github/sizormohanty/Data-Science-Coursera/blob/master/Amazon_HR_Analytics.ipynb\" target=\"_parent\"><img src=\"https://colab.research.google.com/assets/colab-badge.svg\" alt=\"Open In Colab\"/></a>"
      ]
    },
    {
      "cell_type": "code",
      "execution_count": 6,
      "metadata": {
        "id": "kqCGKuCNILbg",
        "colab": {
          "base_uri": "https://localhost:8080/"
        },
        "outputId": "5ceddfac-a1a7-4037-b308-4ba5601ea9b9"
      },
      "outputs": [
        {
          "output_type": "stream",
          "name": "stdout",
          "text": [
            "hello moto\n",
            "1 2.22 hello moto True\n",
            "<class 'int'> <class 'float'>\n",
            "<class 'str'> <class 'bool'>\n",
            "1\n",
            "2\n",
            "3\n",
            "3.22 -1.2200000000000002 2.22\n",
            "i am 45 years old\n",
            "False\n"
          ]
        }
      ],
      "source": [
        "\n",
        "print(\"hello moto\")\n",
        "#data types\n",
        "a=1\n",
        "b=2.22\n",
        "c=\"hello moto\"\n",
        "d=True\n",
        "print(a,b,c,d)\n",
        "print(type(a), type(b))\n",
        "print(type(c),type(d))\n",
        "print(\"1\\n2\\n3\")\n",
        "print(a+b,a-b, a*b)#, Concatenate(c,\"_\",a))\n",
        "age=45\n",
        "print(f\"i am {age} years old\") # use f-string to embed a number\n",
        "print(a==b)"
      ]
    }
  ]
}