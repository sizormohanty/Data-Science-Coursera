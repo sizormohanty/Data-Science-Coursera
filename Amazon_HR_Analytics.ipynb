{
  "nbformat": 4,
  "nbformat_minor": 0,
  "metadata": {
    "colab": {
      "provenance": [],
      "gpuType": "T4",
      "authorship_tag": "ABX9TyNMo/WOw59W9mV5MnitJkDv",
      "include_colab_link": true
    },
    "kernelspec": {
      "name": "python3",
      "display_name": "Python 3"
    },
    "language_info": {
      "name": "python"
    },
    "accelerator": "GPU"
  },
  "cells": [
    {
      "cell_type": "markdown",
      "metadata": {
        "id": "view-in-github",
        "colab_type": "text"
      },
      "source": [
        "<a href=\"https://colab.research.google.com/github/sizormohanty/Data-Science-Coursera/blob/master/Amazon_HR_Analytics.ipynb\" target=\"_parent\"><img src=\"https://colab.research.google.com/assets/colab-badge.svg\" alt=\"Open In Colab\"/></a>"
      ]
    },
    {
      "cell_type": "code",
      "execution_count": null,
      "metadata": {
        "id": "kqCGKuCNILbg",
        "colab": {
          "base_uri": "https://localhost:8080/"
        },
        "outputId": "736fbb30-16a0-4155-cd6c-ee0695da0e3d"
      },
      "outputs": [
        {
          "output_type": "stream",
          "name": "stdout",
          "text": [
            "hello moto\n",
            "1 2.22 hello moto True\n",
            "<class 'int'> <class 'float'>\n",
            "<class 'str'> <class 'bool'>\n",
            "1\n",
            "2\n",
            "3\n",
            "3.22 -1.2200000000000002 2.22\n",
            "i am 45 years old\n",
            "i am 45 years old\n",
            "i am 45 years old\n",
            "False\n"
          ]
        }
      ],
      "source": [
        "\n",
        "print(\"hello moto\")\n",
        "#data types\n",
        "a=1\n",
        "b=2.22\n",
        "c=\"hello moto\"\n",
        "d=True\n",
        "# Exercise #1:Variable declaration and output\n",
        "print(a,b,c,d)\n",
        "print(type(a), type(b))\n",
        "print(type(c),type(d))\n",
        "print(\"1\\n2\\n3\")\n",
        "# Exercise 2: Embed / typecasting integer to string\n",
        "age=45\n",
        "print(f\"i am {age} years old\") # use f-string to embed a number\n",
        "print(\"i am \"+str(age)+\" years old\") # use str() function\n",
        "print(\"i am\",age,\"years old\") # define a number variable\n",
        "# Exercise 3: Variable Operations\n",
        "print(a+b,a-b, a*b)\n",
        "# Exercise 4: Comparison\n",
        "print(a==b)\n"
      ]
    },
    {
      "cell_type": "code",
      "source": [
        "# Data Structures\n",
        "#Lists: Book titles in order, Tuples: details about each book- cannot be chnaged, Sets: No duplication- book genre, Dictionaries: map book ID to information"
      ],
      "metadata": {
        "id": "R4Hr1R8hfTz_"
      },
      "execution_count": null,
      "outputs": []
    }
  ]
}