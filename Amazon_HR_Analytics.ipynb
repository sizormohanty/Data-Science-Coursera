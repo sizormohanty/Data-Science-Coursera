{
  "nbformat": 4,
  "nbformat_minor": 0,
  "metadata": {
    "colab": {
      "provenance": [],
      "authorship_tag": "ABX9TyPZKoiH2H1lyAC7X0qQKVmy",
      "include_colab_link": true
    },
    "kernelspec": {
      "name": "python3",
      "display_name": "Python 3"
    },
    "language_info": {
      "name": "python"
    }
  },
  "cells": [
    {
      "cell_type": "markdown",
      "metadata": {
        "id": "view-in-github",
        "colab_type": "text"
      },
      "source": [
        "<a href=\"https://colab.research.google.com/github/sizormohanty/Data-Science-Coursera/blob/master/Amazon_HR_Analytics.ipynb\" target=\"_parent\"><img src=\"https://colab.research.google.com/assets/colab-badge.svg\" alt=\"Open In Colab\"/></a>"
      ]
    },
    {
      "cell_type": "code",
      "execution_count": 5,
      "metadata": {
        "id": "kqCGKuCNILbg",
        "outputId": "4c0b3f7e-89b0-463c-8a15-3e25f7d7feed",
        "colab": {
          "base_uri": "https://localhost:8080/"
        }
      },
      "outputs": [
        {
          "output_type": "stream",
          "name": "stdout",
          "text": [
            "hello moto\n",
            "1 2.22 hello moto True\n",
            "<class 'int'> <class 'float'> <class 'str'> <class 'bool'>\n"
          ]
        }
      ],
      "source": [
        "print(\"hello moto\")\n",
        "#data types\n",
        "a=1\n",
        "b=2.22\n",
        "c=\"hello moto\"\n",
        "d=True\n",
        "print(a,b,c,d)\n",
        "print(type(a),type(b),type(c),type(d))"
      ]
    }
  ]
}