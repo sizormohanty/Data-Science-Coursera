{
  "nbformat": 4,
  "nbformat_minor": 0,
  "metadata": {
    "colab": {
      "provenance": [],
      "authorship_tag": "ABX9TyMtfiwz18VBDqeTFfB+KwvA",
      "include_colab_link": true
    },
    "kernelspec": {
      "name": "python3",
      "display_name": "Python 3"
    },
    "language_info": {
      "name": "python"
    }
  },
  "cells": [
    {
      "cell_type": "markdown",
      "metadata": {
        "id": "view-in-github",
        "colab_type": "text"
      },
      "source": [
        "<a href=\"https://colab.research.google.com/github/sizormohanty/Data-Science-Coursera/blob/master/Amazon_HR_Analytics.ipynb\" target=\"_parent\"><img src=\"https://colab.research.google.com/assets/colab-badge.svg\" alt=\"Open In Colab\"/></a>"
      ]
    },
    {
      "cell_type": "code",
      "execution_count": 10,
      "metadata": {
        "id": "kqCGKuCNILbg",
        "colab": {
          "base_uri": "https://localhost:8080/"
        },
        "outputId": "afed0caa-4101-49c0-9fc0-2cc56f5b9220"
      },
      "outputs": [
        {
          "output_type": "stream",
          "name": "stdout",
          "text": [
            "hello moto\n",
            "1 2.22 hello moto True\n",
            "<class 'int'> <class 'float'>\n",
            "<class 'str'> <class 'bool'>\n",
            "3.22 -1.2200000000000002 2.22\n"
          ]
        }
      ],
      "source": [
        "from typing_extensions import Concatenate\n",
        "print(\"hello moto\")\n",
        "#data types\n",
        "a=1\n",
        "b=2.22\n",
        "c=\"hello moto\"\n",
        "d=True\n",
        "print(a,b,c,d)\n",
        "print(type(a), type(b))\n",
        "print(type(c),type(d))\n",
        "print(a+b,a-b, a*b)#, Concatenate(c,\"_\",a))"
      ]
    }
  ]
}